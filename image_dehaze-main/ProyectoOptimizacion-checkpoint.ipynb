{
 "cells": [
  {
   "cell_type": "markdown",
   "metadata": {
    "id": "DA45xvG41RGV"
   },
   "source": [
    "\n",
    "\n",
    "#Introducción\n",
    "\n",
    "\n",
    "La optimización matemática es una herramienta que se puede aplicar en cualquier ámbito para el cual se busquen soluciones acotadas por ciertas restricciones y  que cumplan un objetivo, al resolver un problema comúnmente se busca la mejor solución, esto puede significar buscar el parámetro que maximiza o minimiza un modelo planteado previamente, específicamente cuando dichos modelos son convexos (dependen de funciones convexas), se entra al campo de la optimización convexa, en el cual suele ser mucho más fácil encontrar la solución y que por tanto es el que comúnmente  buscamos utilizar al tener un problema con ciertas características. \n",
    "\n",
    "A continuación vamos a plantear y resolver un problema específico de optimización convexa, en el cual el objetivo es la reconstrucción de una imagen (caracterizada por una matriz), a partir de otra imagen dada, modificando aspectos como la iluminación y el contraste de la imagen. Más concretamente, deseamos eliminar la influencia de ciertos aspectos que aparecen en una imagen al momento de su captura, y así mejorar su calidad.\n",
    "\n",
    "Al momento de capturar una imagen diversos factores influyen en el resultado de esta, factores como nubosidad, humedad, iluminación, distribución de transmisión de la luz atmosférica,  calidad del dispositivo donde se está capturando la imagen, entre otros.\n",
    "\n",
    "Teniendo en cuenta los diferentes factores que alteran la imagen se buscará cómo recuperar la imagen que representa la escena mediante optimización convexa.\n",
    "\n",
    "\n"
   ]
  },
  {
   "cell_type": "markdown",
   "metadata": {
    "id": "5oDc-_tTbA6X"
   },
   "source": [
    "#¿Por qué es un problema inverso?,¿Por qué es un problema de optimización convexa?\n",
    "\n",
    "Un problema inverso se puede entender como la reconstrucción de cierto objeto, a partir de un objeto dado inicialmente. El objeto inicial se puede caracterizar con una matriz, y con la ayuda de ciertos parámetros iniciales relacionados al objetivo, se intenta obtener el objeto deseado, que sería una segunda matriz. Se le llama problema inverso, porque en él se trata al objeto deseado como una matriz que ha sido modificada por esos parámetros, y debido a eso se obtiene la matriz con la que iniciamos, de lo que se trata es de invertir esa modificación para obtener la matriz “original”.\n",
    "\n",
    "Daremos como ejemplo de un problema inverso el modelo utilizado para la reconstrucción de imágenes, o para desempañar imágenes, el cual se puede ver como un problema de optimización convexa. En general, los problemas inversos se pueden plantear bajo la forma de una optimización convexa, pues la ecuación que plantea la relación entre la matriz inicial y la matriz modificada, es una ecuación lineal respecto a estas matrices (como se verá más adelante). Esto nos permite solucionar mucho más fácilmente el problema como un problema de optimización."
   ]
  },
  {
   "cell_type": "markdown",
   "metadata": {
    "id": "s3rWosWCv-lX"
   },
   "source": [
    "#Explicación del modelo\n",
    "\n",
    "El modelo que nosotros usaremos, con el cual se busca reconstruir una imagen que está borrosa o que tiene neblina,  está dado por:\n",
    "\n",
    "$$I_c=J_c⊙t+a_c(1-t), \\hspace{0.5cm}c=1,2,3$$\n",
    "\n",
    "En donde  $I_c$ e  $J_c$ son matrices cuyas componentes serán los píxeles de la imagen con neblina y sin neblina respectivamente, este modelo plantea que cada pixel de la imagen con neblina es una combinación convexa entre la imagen sin neblina y una constante  $a_c$(que varía sólo según la imagen de cada caso) que depende de la iluminación, es decir, cada pixel está conformado en parte por el pixel que queremos recuperar y la influencia que tiene la luz atmosférica sobre este, es claro que en todos los píxeles está combinación no es igual, luego aunque tenemos la restricción $0 < t < 1$ , se tiene que este parámetro $t$  es distinto para cada uno de los pixeles y por tanto podemos plantear a $t$ como función de cada uno de ellos.\n",
    "\n",
    "Ahora, teniendo en cuenta que uno de los efectos de la niebla es precisamente un decaimiento exponencial de la intensidad del color y la luz,  se toma \n",
    "$$t(x)=e^{-βd(x)}$$\n",
    "Siendo $d(x)$ la distancia o profundidad de los objetos a la cámara y $β$ una constante que indica que tanto influye la neblina en la observación de los objetos a cierta profundidad, luego  los efectos de tener un $t$ pequeño para algún píxel en la imagen sobre la matriz $I_c$ es precisamente una pérdida del contraste y de la visibilidad de los objetos en la escena.\n",
    "\n",
    "Teniendo en cuenta el modelo descrito, para hallar la matriz $J_c$ es necesaria la previa  estimación de la constante atmosférica  $a_c$, la cual cambia según la imagen y que  a menudo se estima tomando la región más opaca que se encuentre en la imagen, en este caso la que tenga más neblina.\n",
    "\n",
    "\n",
    "Observación: En este proyecto se va a trabajar con imágenes en escala de grises, luego evitamos escribir $c$  como representación de la indexación RGB."
   ]
  },
  {
   "cell_type": "markdown",
   "metadata": {
    "id": "WaiqNtXmxrb8"
   },
   "source": [
    "#Contextualización del problema\n",
    "\n",
    "En principio, la resolución del problema inverso para la reconstrucción de imágenes, es sólo un caso particular de una gran cantidad de problemas que se pueden plantear como una combinación convexa similar a la que se muestra arriba como modelo. Gracias a qué, como se ha dicho, una imagen digital se puede caracterizar mediante una matriz para los fines propuestos, podemos usar ese modelo de combinación convexa para resolver este problema.\n",
    "\n",
    "Dentro del dominio de los problemas de reconstrucción de imágenes, hay igualmente gran diversidad de aplicaciones particulares. Se puede utilizar para mejorar la calidad de una imagen que haya quedado muy borrosa; para diferenciar los píxeles de una imagen, y en general para modificar ciertos detalles globales de una imagen y así eliminar posibles imperfecciones.\n",
    "\n",
    "Específicamente, nuestro contexto será el de la utilización de la reconstrucción de imágenes como una herramienta para los automóviles autónomos. Aunque nuestra intención no es trabajar directamente con ese campo, lo que queremos es sugerir la utilidad de cierto modelo para que sea aplicado, por ejemplo, en ese contexto. En cualquier caso, no se trataría de una aplicación por completo extraña a lo que nos proponemos en este proyecto, porque parte del proceso que realizaremos tiene cierta continuidad con lo que es relevante para el manejo de un automóvil autónomo. Piénsese por ejemplo en la importancia de determinar la distancia a ciertos objetos cercanos, desde el automóvil."
   ]
  },
  {
   "cell_type": "markdown",
   "metadata": {
    "id": "gheiKRMTx2Xj"
   },
   "source": [
    "#¿Por qué es útil solucionar el problema de reconstrucción de imágenes?\n",
    "\n",
    "Es importante resolver el problema de reconstrucción de imágenes ya que muchas veces al capturar una imagen, esta se puede dañar por el movimiento, bien sea de quien capturó el momento, o por el movimiento en el ambiente. La imagen también se puede ver afectada por la calidad del dispositivo, factores ambientales como nubosidad, humedad, incidencia de la luz atmosférica, etc, estos factores desvanecen los colores y reducen el contraste de los objetos capturados. Al quitar todo lo que deteriora la imagen y obteniendo como salida del problema una imagen clara y nítida, podemos obtener mucha información de suma importancia. En muchas áreas es importante tener una imagen clara para obtener información; como sucede en la medicina, astronomía, meteorología, etc. Es por eso que solucionar este problema es útil y ayudaría a diferentes aplicaciones en la actualidad."
   ]
  },
  {
   "cell_type": "markdown",
   "metadata": {
    "id": "XsXqcxpTyCnq"
   },
   "source": [
    "#Librerías a usar\n",
    "\n",
    "Vamos a usar las siguientes librerías de Python:\n",
    "\n",
    "$\\bullet$ cv2: También conocida como OpenCV es una librería para visión artificial de código abierto.\n",
    "\n",
    "$\\bullet$ PIL: (Python Imaging Library) Es una librería que permite la edición de imágenes directamente desde Python.\n",
    "\n",
    "$\\bullet$ numpy: Esta librería es especializada en el cálculo numérico y el análisis de datos\n"
   ]
  },
  {
   "cell_type": "markdown",
   "metadata": {
    "id": "Rc_xKoH-yh-i"
   },
   "source": [
    "#Código\n",
    "\n",
    "El código a implementar..."
   ]
  },
  {
   "cell_type": "markdown",
   "metadata": {
    "id": "VW407NZZCJeK"
   },
   "source": [
    "# Nuestro Código"
   ]
  },
  {
   "cell_type": "code",
   "execution_count": null,
   "metadata": {
    "id": "JX9DahUTvlAV"
   },
   "outputs": [],
   "source": [
    "!pip install cvxpy\n",
    "!pip install image_dehazer\n",
    "!pip install numpy==1.19.0\n",
    "!pip install opencv-python\n",
    "!pip install scipy\n",
    "!pip install Pillow"
   ]
  },
  {
   "cell_type": "code",
   "execution_count": 1,
   "metadata": {
    "id": "vIRqayJy3VfP"
   },
   "outputs": [],
   "source": [
    "#Calculamos A para encontrar la luz del aire\n",
    "import cv2\n",
    "import copy\n",
    "import numpy as np\n",
    "import matplotlib.pyplot as plt\n",
    "\n",
    "def Airlight(HazeImg, windowSize):\n",
    "    A = []\n",
    "    for ch in range(len(HazeImg.shape)):\n",
    "      kernel = np.ones((windowSize, windowSize), np.uint8)\n",
    "      minImg = cv2.erode(HazeImg[:, :, ch], kernel)\n",
    "      A.append(int(minImg.max()))\n",
    "      # B.append(int(HazeImg[:, :, ch].max()))\n",
    "    return(A)"
   ]
  },
  {
   "cell_type": "code",
   "execution_count": 2,
   "metadata": {
    "id": "3pe32yQuDe1l"
   },
   "outputs": [],
   "source": [
    "import cv2\n",
    "import numpy as np\n",
    "def BoundCon(HazeImg, A, C0, C1, windowSze):\n",
    "    t_b = np.maximum((A[0] - HazeImg[:, :, 0].astype(np.float)) / (A[0] - C0),\n",
    "                      (HazeImg[:, :, 0].astype(np.float) - A[0]) / (C1 - A[0]))\n",
    "    t_g = np.maximum((A[1] - HazeImg[:, :, 1].astype(np.float)) / (A[1] - C0),\n",
    "                      (HazeImg[:, :, 1].astype(np.float) - A[1]) / (C1 - A[1]))\n",
    "    t_r = np.maximum((A[2] - HazeImg[:, :, 2].astype(np.float)) / (A[2] - C0),\n",
    "                      (HazeImg[:, :, 2].astype(np.float) - A[2]) / (C1 - A[2]))\n",
    "\n",
    "    MaxVal = np.maximum(t_b, t_g, t_r)\n",
    "    transmission = np.minimum(MaxVal, 1)\n",
    "    # kernel = np.ones((windowSze, windowSze), np.float)\n",
    "    # transmission = cv2.morphologyEx(transmission, cv2.MORPH_CLOSE, kernel=kernel)\n",
    "    return(transmission)"
   ]
  },
  {
   "cell_type": "code",
   "execution_count": 3,
   "metadata": {
    "id": "KfOnvSRkrshQ"
   },
   "outputs": [],
   "source": [
    "def removeHaze(HazeImg, Transmission, A, delta):\n",
    "    epsilon = 0.0001\n",
    "    Transmission = pow(np.maximum(abs(Transmission), epsilon), delta)\n",
    "    HazeCorrectedImage = copy.deepcopy(HazeImg)\n",
    "    for ch in range(len(HazeImg.shape)):\n",
    "        temp = ((HazeImg[:, :, ch].astype(float) - A[ch]) / Transmission) + A[ch]\n",
    "        temp = np.maximum(np.minimum(temp, 255), 0)\n",
    "        HazeCorrectedImage[:, :, ch] = temp    \n",
    "    return(HazeCorrectedImage)"
   ]
  },
  {
   "cell_type": "code",
   "execution_count": 4,
   "metadata": {
    "id": "5_zW12-7xVnH"
   },
   "outputs": [],
   "source": [
    "import cvxpy as cp\n",
    "import numpy as np\n",
    "\n",
    "def remove_haze(HazeImg,Transmission, A, delta):\n",
    "    print(\"remove_haze\")\n",
    "    epsilon = 0.0001\n",
    "    Transmission = pow(np.maximum(abs(Transmission), epsilon), delta)\n",
    "    HazeCorrectedImage = copy.deepcopy(HazeImg)\n",
    "    for ch in range(len(HazeImg.shape)):\n",
    "        I_c = cp.Parameter(HazeImg[:, :, ch].shape)\n",
    "        I_c.value = HazeImg[:, :, ch]\n",
    "        J_c = cp.Variable(HazeCorrectedImage[:, :, ch].shape)\n",
    "        J_c.value = HazeCorrectedImage[:, :, ch]\n",
    "        t_c = cp.Parameter(Transmission.shape)\n",
    "        t_c.value = Transmission\n",
    "        a_c = cp.Parameter()\n",
    "        a_c.value = A[ch]\n",
    "        lambda_1 = 10\n",
    "        lambda_2 = 20\n",
    "        lambda_3 = 30        \n",
    "        expression = I_c-(cp.multiply(J_c,t_c) + a_c*(1-t_c))\n",
    "        objective = cp.Minimize(cp.sum_squares(expression))\n",
    "        constraints = [0 <= J_c, J_c <= 255]\n",
    "        prob = cp.Problem(objective, constraints)        \n",
    "        prob.solve()\n",
    "\n",
    "        temp=J_c.value\n",
    "        print(\"Optimal value\", prob.solve())\n",
    "        print(\"Shape:\",temp.shape )\n",
    "        # temp = ((HazeImg[:, :, ch].astype(float) - A[ch]) / Transmission) + A[ch]\n",
    "        temp = np.maximum(np.minimum(temp, 255), 0)\n",
    "        HazeCorrectedImage[:, :, ch] = temp    \n",
    "    return(HazeCorrectedImage)    "
   ]
  },
  {
   "cell_type": "code",
   "execution_count": 5,
   "metadata": {},
   "outputs": [],
   "source": [
    "import cvxpy as cp\n",
    "import numpy as np\n",
    "from cvxpy.atoms.norm1 import norm1\n",
    "from cvxpy.atoms.pnorm import pnorm\n",
    "\n",
    "def remove_haze2(HazeImg,Transmission, A, delta):\n",
    "    print(\"remove_haze2\")\n",
    "    epsilon = 0.0001\n",
    "    Transmission = pow(np.maximum(abs(Transmission), epsilon), delta)\n",
    "    HazeCorrectedImage = copy.deepcopy(HazeImg)\n",
    "    for ch in range(len(HazeImg.shape)):\n",
    "        I_c = cp.Parameter(HazeImg[:, :, ch].shape)\n",
    "        I_c.value = HazeImg[:, :, ch]\n",
    "        J_c = cp.Variable(HazeCorrectedImage[:, :, ch].shape)\n",
    "        J_c.value = HazeCorrectedImage[:, :, ch]\n",
    "        t_c = cp.Parameter(Transmission.shape)\n",
    "        t_c.value = Transmission\n",
    "        a_c = cp.Parameter()\n",
    "        a_c.value = A[ch]\n",
    "        lambda_1 = 0.1\n",
    "        lambda_2 = 20\n",
    "        lambda_3 = 30        \n",
    "#         expression = I_c-(cp.multiply(J_c,t_c) + a_c*(1-t_c))+(lambda_1*(cp.norm(t_c,p=2).value))\n",
    "        expression = I_c-(cp.multiply(J_c,t_c) + a_c*(1-t_c))\n",
    "        objective = cp.Minimize(cp.norm1(expression))\n",
    "        constraints = [0 <= J_c, J_c <= 255]\n",
    "        prob = cp.Problem(objective, constraints)        \n",
    "        prob.solve()\n",
    "\n",
    "        temp=J_c.value\n",
    "        print(\"Optimal value\", prob.solve())\n",
    "        print(\"Shape:\",temp.shape )\n",
    "        # temp = ((HazeImg[:, :, ch].astype(float) - A[ch]) / Transmission) + A[ch]\n",
    "        temp = np.maximum(np.minimum(temp, 255), 0)\n",
    "        HazeCorrectedImage[:, :, ch] = temp    \n",
    "    return(HazeCorrectedImage)   "
   ]
  },
  {
   "cell_type": "code",
   "execution_count": null,
   "metadata": {
    "colab": {
     "base_uri": "https://localhost:8080/",
     "height": 741
    },
    "id": "O2r_dHu83zje",
    "outputId": "daa1bcfd-22ed-4d70-d15b-7a39a66efca1"
   },
   "outputs": [
    {
     "name": "stdout",
     "output_type": "stream",
     "text": [
      "(716, 1000, 3)\n",
      "remove_haze\n"
     ]
    },
    {
     "name": "stderr",
     "output_type": "stream",
     "text": [
      "/root/anaconda3/lib/python3.9/site-packages/cvxpy/reductions/solvers/solving_chain.py:178: UserWarning: You are solving a parameterized problem that is not DPP. Because the problem is not DPP, subsequent solves will not be faster than the first one. For more information, see the documentation on Discplined Parametrized Programming, at\n",
      "\thttps://www.cvxpy.org/tutorial/advanced/index.html#disciplined-parametrized-programming\n",
      "  warnings.warn(dpp_error_msg)\n"
     ]
    },
    {
     "name": "stdout",
     "output_type": "stream",
     "text": [
      "Optimal value 280778.5113490545\n",
      "Shape: (716, 1000)\n",
      "Optimal value 576350.8530954013\n",
      "Shape: (716, 1000)\n"
     ]
    }
   ],
   "source": [
    "from PIL import Image\n",
    "from matplotlib import cm\n",
    "HazeImg = cv2.imread('transmi.jpg')\t\n",
    "\n",
    "print(HazeImg.shape)\n",
    "\n",
    "# Estimate Airlight\n",
    "windowSze = 25\n",
    "windowSize = 3\n",
    "A = Airlight(HazeImg, windowSze)\n",
    "C0=20\n",
    "C1=300\n",
    "t = BoundCon(HazeImg,A,C0,C1,windowSize)\n",
    "t1 = t*1\n",
    "# HazeCorrectedImg = removeHaze(HazeImg, t1, A,0.4)\n",
    "test = remove_haze(HazeImg, t1, A,0.4)\n",
    "test2 = remove_haze2(HazeImg, t1, A,0.4)\n",
    "# plt.imshow(HazeImg)\n",
    "# plt.show()\n",
    "# plt.imshow(HazeCorrectedImg)\n",
    "# plt.show()\n",
    "# print(\"--------------------------------------\")\n",
    "plt.imshow(HazeImg)\n",
    "plt.show()\n",
    "plt.imshow(test)\n",
    "plt.show()\n",
    "plt.imshow(test2)\n",
    "plt.show()\n",
    "cv2.imwrite('HazeImg.png',HazeImg)\n",
    "cv2.imwrite('Test.png',test)\n",
    "cv2.imwrite('Test2.png',test2)\n",
    "cv2.imwrite('Dehaze.png',HazeCorrectedImg)"
   ]
  },
  {
   "cell_type": "markdown",
   "metadata": {
    "id": "hK7GtT8XzhC_"
   },
   "source": [
    "#Ejemplos de resultados\n",
    "\n",
    "Ejecutamos el siguiente código para ver un ejemplo de como funciona el problema de reconstrucción de imágenes.\n",
    "Se presenta una imagen de la ciudad de Bogotá en un día nublado y lluvioso."
   ]
  },
  {
   "cell_type": "markdown",
   "metadata": {
    "id": "YqKmzQM5yula"
   },
   "source": [
    "#Conclusiónes\n",
    "\n",
    "En este trabajo..."
   ]
  },
  {
   "cell_type": "markdown",
   "metadata": {
    "id": "xV1YTIgGyyla"
   },
   "source": [
    "#Referencias\n",
    "\n",
    "https://github.com/Utkarsh-Deshmukh/Single-Image-Dehazing-Python/blob/master/src/removeHaze.py\n",
    "\n",
    "https://www.cv-foundation.org/openaccess/content_iccv_2013/papers/Meng_Efficient_Image_Dehazing_2013_ICCV_paper.pdf\n",
    "\n",
    "https://www.researchgate.net/publication/307516271_Convex_optimization_for_fast_image_dehazing \n",
    "\n",
    "https://www.researchgate.net/publication/221110862_Fast_Visibility_Restoration_from_a_Single_Color_or_Gray_Level_Image\n",
    "\n",
    "https://www.ncbi.nlm.nih.gov/pmc/articles/PMC8323906/"
   ]
  }
 ],
 "metadata": {
  "colab": {
   "collapsed_sections": [],
   "name": "ProyectoOptimización.ipynb",
   "provenance": []
  },
  "kernelspec": {
   "display_name": "Python 3 (ipykernel)",
   "language": "python",
   "name": "python3"
  },
  "language_info": {
   "codemirror_mode": {
    "name": "ipython",
    "version": 3
   },
   "file_extension": ".py",
   "mimetype": "text/x-python",
   "name": "python",
   "nbconvert_exporter": "python",
   "pygments_lexer": "ipython3",
   "version": "3.9.7"
  }
 },
 "nbformat": 4,
 "nbformat_minor": 1
}
